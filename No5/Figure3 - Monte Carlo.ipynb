{
 "cells": [
  {
   "cell_type": "markdown",
   "metadata": {},
   "source": [
    "**[1-1]** 乱数を発生するモジュールをインポートします。"
   ]
  },
  {
   "cell_type": "code",
   "execution_count": 1,
   "metadata": {
    "collapsed": true
   },
   "outputs": [],
   "source": [
    "from numpy.random import random"
   ]
  },
  {
   "cell_type": "markdown",
   "metadata": {},
   "source": [
    "**[1-2]** 「釘」を投げるシュミレーションで円の面積を計算します。\n",
    "\n",
    "釘の個数を変えながら、計算を繰り返します。"
   ]
  },
  {
   "cell_type": "code",
   "execution_count": 2,
   "metadata": {
    "collapsed": false
   },
   "outputs": [
    {
     "name": "stdout",
     "output_type": "stream",
     "text": [
      "n=    100, area=3.040000\n",
      "n=   1000, area=3.100000\n",
      "n=  10000, area=3.148000\n",
      "n= 100000, area=3.137000\n",
      "n=1000000, area=3.143876\n"
     ]
    }
   ],
   "source": [
    "for num in [100, 1000, 10000, 100000, 1000000]:\n",
    "    xs = -1+random(num)*2\n",
    "    ys = -1+random(num)*2\n",
    "    inside = 0\n",
    "    for x, y in zip(xs, ys):\n",
    "        if x*x + y*y <= 1:\n",
    "            inside += 1\n",
    "    area = 4.0 * inside / num\n",
    "    print \"n=%7d, area=%f\" % (num, area)"
   ]
  }
 ],
 "metadata": {
  "kernelspec": {
   "display_name": "Python 2",
   "language": "python",
   "name": "python2"
  },
  "language_info": {
   "codemirror_mode": {
    "name": "ipython",
    "version": 2
   },
   "file_extension": ".py",
   "mimetype": "text/x-python",
   "name": "python",
   "nbconvert_exporter": "python",
   "pygments_lexer": "ipython2",
   "version": "2.7.5"
  }
 },
 "nbformat": 4,
 "nbformat_minor": 0
}
