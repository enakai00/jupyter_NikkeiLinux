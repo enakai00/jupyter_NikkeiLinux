{
 "cells": [
  {
   "cell_type": "markdown",
   "metadata": {},
   "source": [
    "**[4-1]** 必要なモジュールをインポートします。"
   ]
  },
  {
   "cell_type": "code",
   "execution_count": 1,
   "metadata": {
    "collapsed": true
   },
   "outputs": [],
   "source": [
    "import numpy as np\n",
    "import matplotlib.pyplot as plt\n",
    "from numpy.random import randint"
   ]
  },
  {
   "cell_type": "markdown",
   "metadata": {},
   "source": [
    "**[4-2]** 1回分のゲームをシミュレーションする関数を用意します。手持ちのポイントは、掛けたポイントの分だけ増えるか、もしくは、掛けたポイントの半分だけ減ります。"
   ]
  },
  {
   "cell_type": "code",
   "execution_count": 2,
   "metadata": {
    "collapsed": false
   },
   "outputs": [],
   "source": [
    "def coin_game(money, bet):\n",
    "    coin = randint(2)\n",
    "    if coin == 0:\n",
    "        money += bet\n",
    "    else:\n",
    "        money -= bet/2\n",
    "    return money"
   ]
  },
  {
   "cell_type": "markdown",
   "metadata": {},
   "source": [
    "**[4-3]** 毎回10ポイント掛けるという戦略で、100回分のゲームを繰り返して、手持ちのポイントの変動をグラフ表示します。"
   ]
  },
  {
   "cell_type": "code",
   "execution_count": 3,
   "metadata": {
    "collapsed": false,
    "scrolled": true
   },
   "outputs": [
    {
     "data": {
      "text/plain": [
       "[<matplotlib.lines.Line2D at 0x44c50d0>]"
      ]
     },
     "execution_count": 3,
     "metadata": {},
     "output_type": "execute_result"
    },
    {
     "data": {
      "image/png": "[encoded data removed]",
      "text/plain": [
       "<matplotlib.figure.Figure at 0x4383dd0>"
      ]
     },
     "metadata": {},
     "output_type": "display_data"
    }
   ],
   "source": [
    "money = 1000\n",
    "result = []\n",
    "for i in range(100):\n",
    "    money = coin_game(money, 10)\n",
    "    result.append(money)\n",
    "\n",
    "fig = plt.figure(figsize=(5,3))\n",
    "subplot = fig.add_subplot(1,1,1)\n",
    "subplot.plot(range(len(result)), result)"
   ]
  },
  {
   "cell_type": "markdown",
   "metadata": {},
   "source": [
    "**[4-4]** 毎回手持ちのポイントの半分を掛けるという戦略で、100回分のゲームを繰り返して、手持ちのポイントの変動をグラフ表示します。"
   ]
  },
  {
   "cell_type": "code",
   "execution_count": 4,
   "metadata": {
    "collapsed": false,
    "scrolled": true
   },
   "outputs": [
    {
     "data": {
      "text/plain": [
       "[<matplotlib.lines.Line2D at 0x46c5b50>]"
      ]
     },
     "execution_count": 4,
     "metadata": {},
     "output_type": "execute_result"
    },
    {
     "data": {
      "image/png": "[encoded data removed]",
      "text/plain": [
       "<matplotlib.figure.Figure at 0x4386390>"
      ]
     },
     "metadata": {},
     "output_type": "display_data"
    }
   ],
   "source": [
    "money = 1000\n",
    "result = []\n",
    "for i in range(100):\n",
    "    result.append(money)\n",
    "    money = coin_game(money, money/2)\n",
    "\n",
    "fig = plt.figure(figsize=(5,3))\n",
    "subplot = fig.add_subplot(1,1,1)\n",
    "subplot.plot(range(len(result)), result)"
   ]
  }
 ],
 "metadata": {
  "kernelspec": {
   "display_name": "Python 2",
   "language": "python",
   "name": "python2"
  },
  "language_info": {
   "codemirror_mode": {
    "name": "ipython",
    "version": 2
   },
   "file_extension": ".py",
   "mimetype": "text/x-python",
   "name": "python",
   "nbconvert_exporter": "python",
   "pygments_lexer": "ipython2",
   "version": "2.7.5"
  }
 },
 "nbformat": 4,
 "nbformat_minor": 0
}
