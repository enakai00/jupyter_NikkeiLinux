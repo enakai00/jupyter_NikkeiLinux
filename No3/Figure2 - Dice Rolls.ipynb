{
 "cells": [
  {
   "cell_type": "markdown",
   "metadata": {},
   "source": [
    "**[1-1]** 整数の乱数を発生させるモジュール randint をインポートします。"
   ]
  },
  {
   "cell_type": "code",
   "execution_count": 1,
   "metadata": {
    "collapsed": false
   },
   "outputs": [],
   "source": [
    "import numpy as np\n",
    "import matplotlib.pyplot as plt\n",
    "from numpy.random import randint"
   ]
  },
  {
   "cell_type": "markdown",
   "metadata": {},
   "source": [
    "**[1-2]** 1〜6の乱数を10個発生させる例です。"
   ]
  },
  {
   "cell_type": "code",
   "execution_count": 2,
   "metadata": {
    "collapsed": false
   },
   "outputs": [
    {
     "name": "stdout",
     "output_type": "stream",
     "text": [
      "[1 1 2 4 2 4 4 3 2 1]\n"
     ]
    }
   ],
   "source": [
    "print randint(1,7,10)"
   ]
  },
  {
   "cell_type": "markdown",
   "metadata": {},
   "source": [
    "**[1-3]** 1〜6の乱数を1000個発生したものを変数 dice に格納します。"
   ]
  },
  {
   "cell_type": "code",
   "execution_count": 3,
   "metadata": {
    "collapsed": false
   },
   "outputs": [],
   "source": [
    "dice = randint(1,7,1000)"
   ]
  },
  {
   "cell_type": "markdown",
   "metadata": {},
   "source": [
    "**[1-4]** 先ほどの乱数をヒストグラムに表示します。"
   ]
  },
  {
   "cell_type": "code",
   "execution_count": 4,
   "metadata": {
    "collapsed": false,
    "scrolled": true
   },
   "outputs": [
    {
     "data": {
      "text/plain": [
       "(array([ 167.,  173.,  177.,  142.,  152.,  189.]),\n",
       " array([ 0.5,  1.5,  2.5,  3.5,  4.5,  5.5,  6.5]),\n",
       " <a list of 6 Patch objects>)"
      ]
     },
     "execution_count": 4,
     "metadata": {},
     "output_type": "execute_result"
    },
    {
     "data": {
      "image/png": "[encoded data removed]",
      "text/plain": [
       "<matplotlib.figure.Figure at 0x4634950>"
      ]
     },
     "metadata": {},
     "output_type": "display_data"
    }
   ],
   "source": [
    "fig = plt.figure(figsize=(3,3))\n",
    "subplot = fig.add_subplot(1,1,1)\n",
    "subplot.set_xlim(0.5,6.5)\n",
    "subplot.hist(dice, bins=np.linspace(0.5,6.5,7))"
   ]
  },
  {
   "cell_type": "markdown",
   "metadata": {},
   "source": [
    "**[1-5]** 2個のサイコロ振った合計を1000回分計算して、ヒストグラムに表示します。"
   ]
  },
  {
   "cell_type": "code",
   "execution_count": 5,
   "metadata": {
    "collapsed": false
   },
   "outputs": [
    {
     "data": {
      "text/plain": [
       "(array([  27.,   43.,   78.,   94.,  155.,  167.,  152.,  102.,   95.,\n",
       "          59.,   28.]),\n",
       " array([  1.5,   2.5,   3.5,   4.5,   5.5,   6.5,   7.5,   8.5,   9.5,\n",
       "         10.5,  11.5,  12.5]),\n",
       " <a list of 11 Patch objects>)"
      ]
     },
     "execution_count": 5,
     "metadata": {},
     "output_type": "execute_result"
    },
    {
     "data": {
      "image/png": "[encoded data removed]",
      "text/plain": [
       "<matplotlib.figure.Figure at 0x4782b10>"
      ]
     },
     "metadata": {},
     "output_type": "display_data"
    }
   ],
   "source": [
    "dice1 = randint(1,7,1000)\n",
    "dice2 = randint(1,7,1000)\n",
    "dice_total = dice1 + dice2\n",
    "\n",
    "fig = plt.figure(figsize=(5,3))\n",
    "subplot = fig.add_subplot(1,1,1)\n",
    "subplot.set_xlim(1.5,12.5)\n",
    "subplot.hist(dice_total, bins=np.linspace(1.5,12.5,12))"
   ]
  }
 ],
 "metadata": {
  "kernelspec": {
   "display_name": "Python 2",
   "language": "python",
   "name": "python2"
  },
  "language_info": {
   "codemirror_mode": {
    "name": "ipython",
    "version": 2
   },
   "file_extension": ".py",
   "mimetype": "text/x-python",
   "name": "python",
   "nbconvert_exporter": "python",
   "pygments_lexer": "ipython2",
   "version": "2.7.5"
  }
 },
 "nbformat": 4,
 "nbformat_minor": 0
}
