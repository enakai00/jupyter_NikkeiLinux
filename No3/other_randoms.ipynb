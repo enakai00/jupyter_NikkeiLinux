{
 "cells": [
  {
   "cell_type": "markdown",
   "metadata": {},
   "source": [
    "**[5-1]** 必要なモジュールをインポートします。"
   ]
  },
  {
   "cell_type": "code",
   "execution_count": 1,
   "metadata": {
    "collapsed": false
   },
   "outputs": [],
   "source": [
    "import numpy as np\n",
    "import matplotlib.pyplot as plt\n",
    "from numpy.random import random\n",
    "from numpy.random import normal"
   ]
  },
  {
   "cell_type": "markdown",
   "metadata": {},
   "source": [
    "**[5-2]** randomを用いて、0〜1の範囲の乱数を5個発生します。"
   ]
  },
  {
   "cell_type": "code",
   "execution_count": 2,
   "metadata": {
    "collapsed": false
   },
   "outputs": [
    {
     "name": "stdout",
     "output_type": "stream",
     "text": [
      "[ 0.8213769   0.8659264   0.08605054  0.32675946  0.31133611]\n"
     ]
    }
   ],
   "source": [
    "print random(5)"
   ]
  },
  {
   "cell_type": "markdown",
   "metadata": {},
   "source": [
    "**[5-3]** 100〜150の範囲の乱数を5個発生します。"
   ]
  },
  {
   "cell_type": "code",
   "execution_count": 3,
   "metadata": {
    "collapsed": false,
    "scrolled": true
   },
   "outputs": [
    {
     "name": "stdout",
     "output_type": "stream",
     "text": [
      "[ 106.24571699  140.5191746   103.23735344  121.25694568  117.07591235]\n"
     ]
    }
   ],
   "source": [
    "print 100+random(5)*50"
   ]
  },
  {
   "cell_type": "markdown",
   "metadata": {},
   "source": [
    "**[5-4]** normalを用いて、正規分布の乱数を発生します。ここでは、標準偏差1の場合と標準偏差2の場合をグラフで比較しています。"
   ]
  },
  {
   "cell_type": "code",
   "execution_count": 4,
   "metadata": {
    "collapsed": false
   },
   "outputs": [
    {
     "data": {
      "text/plain": [
       "(array([   3.,   17.,   24.,   28.,   47.,   69.,   67.,   87.,   90.,\n",
       "         115.,  109.,   76.,   74.,   69.,   39.,   33.,   27.,   11.,    4.]),\n",
       " array([  0.        ,   0.52631579,   1.05263158,   1.57894737,\n",
       "          2.10526316,   2.63157895,   3.15789474,   3.68421053,\n",
       "          4.21052632,   4.73684211,   5.26315789,   5.78947368,\n",
       "          6.31578947,   6.84210526,   7.36842105,   7.89473684,\n",
       "          8.42105263,   8.94736842,   9.47368421,  10.        ]),\n",
       " <a list of 19 Patch objects>)"
      ]
     },
     "execution_count": 4,
     "metadata": {},
     "output_type": "execute_result"
    },
    {
     "data": {
      "image/png": "[encoded data removed]",
      "text/plain": [
       "<matplotlib.figure.Figure at 0x4983110>"
      ]
     },
     "metadata": {},
     "output_type": "display_data"
    }
   ],
   "source": [
    "fig = plt.figure(figsize=(5,6))\n",
    "\n",
    "subplot = fig.add_subplot(2,1,1)\n",
    "data = normal(5,1,1000)\n",
    "subplot.hist(data, bins=np.linspace(0,10,20))\n",
    "\n",
    "subplot = fig.add_subplot(2,1,2)\n",
    "data = normal(5,2,1000)\n",
    "subplot.hist(data, bins=np.linspace(0,10,20))"
   ]
  }
 ],
 "metadata": {
  "kernelspec": {
   "display_name": "Python 2",
   "language": "python",
   "name": "python2"
  },
  "language_info": {
   "codemirror_mode": {
    "name": "ipython",
    "version": 2
   },
   "file_extension": ".py",
   "mimetype": "text/x-python",
   "name": "python",
   "nbconvert_exporter": "python",
   "pygments_lexer": "ipython2",
   "version": "2.7.5"
  }
 },
 "nbformat": 4,
 "nbformat_minor": 0
}
